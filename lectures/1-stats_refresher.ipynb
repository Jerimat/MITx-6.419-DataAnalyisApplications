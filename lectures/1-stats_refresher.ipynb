{
 "cells": [
  {
   "cell_type": "code",
   "execution_count": 10,
   "metadata": {
    "collapsed": true
   },
   "outputs": [],
   "source": [
    "import numpy as np\n",
    "from scipy.special import comb\n",
    "from scipy.stats import binom\n",
    "from scipy.stats import poisson\n",
    "from scipy.stats import hypergeom\n",
    "from scipy.stats import fisher_exact\n",
    "from scipy.stats import norm\n",
    "from scipy.stats import t\n",
    "from scipy.stats import ttest_1samp\n",
    "from scipy.stats import chi2\n",
    "import matplotlib.pyplot as plt\n",
    "plt.style.use('seaborn-whitegrid')"
   ]
  },
  {
   "cell_type": "code",
   "execution_count": null,
   "outputs": [],
   "source": [
    "n, p = 31000, 0.00203\n",
    "k = 63\n",
    "bin_coef = comb(n, k)\n",
    "x = bin_coef * (p**k) * (1-p)**(n-k)\n",
    "print(x)"
   ],
   "metadata": {
    "collapsed": false,
    "pycharm": {
     "name": "#%%\n"
    }
   }
  },
  {
   "cell_type": "markdown",
   "source": [
    "### Binomial and Poisson distributions"
   ],
   "metadata": {
    "collapsed": false,
    "pycharm": {
     "name": "#%% md\n"
    }
   }
  },
  {
   "cell_type": "code",
   "execution_count": null,
   "outputs": [],
   "source": [
    "fig, ax = plt.subplots(2, 1)\n",
    "x = np.arange(binom.ppf(0.01, n, p), binom.ppf(0.99, n, p))\n",
    "\n",
    "ax[0].plot(x, binom.pmf(x, n, p), 'bo', ms=2, label='binom pmf')\n",
    "ax[0].vlines(x, 0, binom.pmf(x, n, p), colors='b', lw=1, alpha=0.5)\n",
    "# ax[0].set_xlim((0, 200))\n",
    "\n",
    "lmbda = n * p\n",
    "x = np.arange(poisson.ppf(0.01, lmbda), poisson.ppf(0.99, lmbda))\n",
    "\n",
    "ax[1].plot(x, poisson.pmf(x, lmbda), 'bo', ms=2, label='poisson pmf')\n",
    "ax[1].vlines(x, 0, poisson.pmf(x, lmbda), colors='b', lw=1, alpha=0.5)\n",
    "# ax[1].set_xlim((0, 200))\n",
    "\n",
    "plt.show()\n"
   ],
   "metadata": {
    "collapsed": false,
    "pycharm": {
     "name": "#%%\n"
    }
   }
  },
  {
   "cell_type": "markdown",
   "source": [
    "### Hypothesis Testing and p-value"
   ],
   "metadata": {
    "collapsed": false,
    "pycharm": {
     "name": "#%% md\n"
    }
   }
  },
  {
   "cell_type": "code",
   "execution_count": null,
   "outputs": [],
   "source": [
    "# Threshold for which we would reject H_0 with significance level 0.05\n",
    "significance_level = 0.05\n",
    "n, p = 31000, 0.00203\n",
    "k = 63\n",
    "threshold_binom = binom.ppf(significance_level, n, p)\n",
    "print('We would reject H_0 if the test statistic T <=', threshold_binom)\n",
    "p_value_binom = round(binom.cdf(39, n, p), 4)\n",
    "print('p-value (Binomial Test):', p_value_binom)\n",
    "\n",
    "lmbda = n * p\n",
    "threshold_poisson = poisson.ppf(significance_level, lmbda)\n",
    "print('We would reject H_0 if the test statistic T <=', threshold_poisson)\n",
    "p_value_poisson = round(poisson.cdf(39, lmbda), 4)\n",
    "print('p-value (Poisson Test):', p_value_poisson)"
   ],
   "metadata": {
    "collapsed": false,
    "pycharm": {
     "name": "#%%\n"
    }
   }
  },
  {
   "cell_type": "code",
   "execution_count": null,
   "outputs": [],
   "source": [
    "H_0_rate = 39\n",
    "H_A_rate = 63\n",
    "sample_size_H_0 = 31000\n",
    "sample_size_H_A = 31000\n",
    "\n",
    "p_value = 0\n",
    "for nb in range(H_0_rate):\n",
    "    p_value += hypergeom.cdf(nb, (sample_size_H_0 + sample_size_H_A), sample_size_H_0, (H_0_rate + H_A_rate))\n",
    "\n",
    "print('p-value for Hypergeom P(T<=39)', round(p_value, 4))\n"
   ],
   "metadata": {
    "collapsed": false,
    "pycharm": {
     "name": "#%%\n"
    }
   }
  },
  {
   "cell_type": "markdown",
   "source": [
    "### Fisher's Exact Test"
   ],
   "metadata": {
    "collapsed": false,
    "pycharm": {
     "name": "#%% md\n"
    }
   }
  },
  {
   "cell_type": "code",
   "execution_count": null,
   "outputs": [],
   "source": [
    "N = 62000\n",
    "K = 31000\n",
    "target_treatment = 39\n",
    "target_control = 63\n",
    "other_treatment = K - target_treatment\n",
    "other_control = (N - K) - target_control\n",
    "\n",
    "contingency_table = [[target_treatment, target_control], [other_treatment, other_control]]\n",
    "\n",
    "oddsratio, p_value = fisher_exact(contingency_table, 'less')\n",
    "print('p-value for Fisher\\'s Exact Test:', round(p_value, 4))\n"
   ],
   "metadata": {
    "collapsed": false,
    "pycharm": {
     "name": "#%%\n"
    }
   }
  },
  {
   "cell_type": "code",
   "execution_count": 17,
   "outputs": [
    {
     "name": "stdout",
     "output_type": "stream",
     "text": [
      "T= -3.0268\n",
      "p-value= 0.0012\n"
     ]
    },
    {
     "data": {
      "text/plain": "<Figure size 432x288 with 1 Axes>",
      "image/png": "[encoded data removed]"
     },
     "metadata": {},
     "output_type": "display_data"
    }
   ],
   "source": [
    "N = 62000\n",
    "K = 31000\n",
    "target_treatment = 39\n",
    "target_control = 63\n",
    "\n",
    "# z-test\n",
    "X_bar = target_treatment / K\n",
    "mu = target_control / (N - K)\n",
    "sigma = np.sqrt(mu * (1 - mu))\n",
    "\n",
    "T = np.sqrt(K) * ((X_bar - mu) / sigma)\n",
    "print('T=', round(T, 4))\n",
    "\n",
    "p_value = norm.cdf(T, 0, 1)\n",
    "print('p-value=', round(p_value, 4))\n",
    "\n",
    "# plot distribution and p-value\n",
    "fix, ax = plt.subplots(1, 1)\n",
    "x = np.linspace(norm.ppf(0.00001, 0, 1), norm.ppf(0.99999, 0, 1))\n",
    "ax.plot(x, norm.pdf(x, 0, 1), label='N(0, 1)')\n",
    "ax.plot(T, norm.pdf(T, 0, 1), 'ro', markersize=5, label='T')\n",
    "ax.fill_between(x, norm.pdf(T, 0, 1), where=x<=T, color='r')\n",
    "ax.annotate(round(T, 4), (T-.5, norm.pdf(T, 0, 1) + 0.03))\n",
    "\n",
    "plt.legend(loc='best')\n",
    "plt.show()"
   ],
   "metadata": {
    "collapsed": false,
    "pycharm": {
     "name": "#%%\n"
    }
   }
  },
  {
   "cell_type": "markdown",
   "source": [
    "### T Test"
   ],
   "metadata": {
    "collapsed": false,
    "pycharm": {
     "name": "#%% md\n"
    }
   }
  },
  {
   "cell_type": "code",
   "execution_count": 31,
   "outputs": [
    {
     "name": "stdout",
     "output_type": "stream",
     "text": [
      "1.78 1.6773789077009404\n",
      "1.7681126158201075\n",
      "T = 3.183538302218873\n",
      "p-value: 0.00556\n",
      "p-value: 0.00556\n"
     ]
    }
   ],
   "source": [
    "data = [0.9, -0.9, 4.3, 2.9, 1.2, 3.0, 2.7, 0.6, 3.6, -0.5]\n",
    "sample_mean = np.mean(data)\n",
    "sample_sd = np.sqrt(np.var(data))\n",
    "print(sample_mean, sample_sd)\n",
    "\n",
    "sv = 0\n",
    "for datapoint in data:\n",
    "    sv += (datapoint - sample_mean) ** 2\n",
    "sv /= (len(data) - 1)\n",
    "print(np.sqrt(sv))\n",
    "\n",
    "#t-test\n",
    "T = np.sqrt(len(data)) * (sample_mean / np.sqrt(sv))\n",
    "print('T =', T)\n",
    "p_value = t.cdf(T, len(data) - 1, 0, 1)\n",
    "print('p-value:', round(1 - p_value, 5))\n",
    "\n",
    "## or\n",
    "t_stats, p_value = ttest_1samp(data, popmean=0)\n",
    "p_value /= 2\n",
    "print('p-value:', round(p_value, 5))"
   ],
   "metadata": {
    "collapsed": false,
    "pycharm": {
     "name": "#%%\n"
    }
   }
  },
  {
   "cell_type": "markdown",
   "source": [
    "### Likelihood Ratio Test"
   ],
   "metadata": {
    "collapsed": false,
    "pycharm": {
     "name": "#%% md\n"
    }
   }
  },
  {
   "cell_type": "code",
   "execution_count": 24,
   "outputs": [
    {
     "name": "stdout",
     "output_type": "stream",
     "text": [
      "0.0016 0.0013 0.002\n",
      "Likelihood Ratio Statistic = 5.71\n",
      "p-value for Likelihood Ratio test: 0.0169\n",
      "0.0169\n"
     ]
    }
   ],
   "source": [
    "n = 62000\n",
    "y_t = 39\n",
    "y_c = 63\n",
    "\n",
    "mle = lambda k, n: k/n\n",
    "\n",
    "mle_p = mle(y_t + y_c, n)\n",
    "mle_p_t = mle(y_t, n/2)\n",
    "mle_p_c = mle(y_c, n/2)\n",
    "\n",
    "print(round(mle_p, 4), round(mle_p_t, 4), round(mle_p_c, 4))\n",
    "\n",
    "lmbda = -2 * np.log((binom.pmf(y_t, n/2, mle_p) * binom.pmf(y_c, n/2, mle_p)) / (binom.pmf(y_t, n/2, mle_p_t) * binom.pmf(y_c, n/2, mle_p_c)))\n",
    "print('Likelihood Ratio Statistic =', round(lmbda, 3))\n",
    "\n",
    "p_value = 1 - chi2.cdf(lmbda, 1)\n",
    "print('p-value for Likelihood Ratio test:', round(p_value, 4))\n",
    "print(round(chi2.sf(lmbda, 1), 4))\n"
   ],
   "metadata": {
    "collapsed": false,
    "pycharm": {
     "name": "#%%\n"
    }
   }
  }
 ],
 "metadata": {
  "kernelspec": {
   "display_name": "Python 3",
   "language": "python",
   "name": "python3"
  },
  "language_info": {
   "codemirror_mode": {
    "name": "ipython",
    "version": 2
   },
   "file_extension": ".py",
   "mimetype": "text/x-python",
   "name": "python",
   "nbconvert_exporter": "python",
   "pygments_lexer": "ipython2",
   "version": "2.7.6"
  }
 },
 "nbformat": 4,
 "nbformat_minor": 0
}