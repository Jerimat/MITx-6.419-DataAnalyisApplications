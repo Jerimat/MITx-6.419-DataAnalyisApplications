{
 "cells": [
  {
   "cell_type": "code",
   "execution_count": 1,
   "metadata": {
    "collapsed": true
   },
   "outputs": [],
   "source": [
    "import numpy as np"
   ]
  },
  {
   "cell_type": "code",
   "execution_count": 76,
   "outputs": [],
   "source": [
    "X = np.array([[8, 4, 7], [2, 8, 1], [3, 1, 1], [9, 7, 4]]).T\n",
    "barX = np.mean(X, axis=1).reshape((-1, 1))\n",
    "S = 1/X.shape[1] * np.matmul(X, X.T) - np.matmul(barX, barX.T)\n",
    "\n",
    "print('X:\\n', X)\n",
    "print('\\nbarX:\\n', barX)\n",
    "print('\\nS:\\n', S)\n"
   ],
   "metadata": {
    "collapsed": false,
    "pycharm": {
     "name": "#%%\n"
    }
   }
  },
  {
   "cell_type": "markdown",
   "source": [
    "### Measuring the spread of a point cloud"
   ],
   "metadata": {
    "collapsed": false,
    "pycharm": {
     "name": "#%% md\n"
    }
   }
  },
  {
   "cell_type": "code",
   "execution_count": 61,
   "outputs": [
    {
     "name": "stdout",
     "output_type": "stream",
     "text": [
      "projection of the points onto the unit vector u:\n",
      " [[ 1.   2. ]\n",
      " [ 2.2  4.4]\n",
      " [-0.2 -0.4]]\n"
     ]
    }
   ],
   "source": [
    "points = np.array([[1, 2], [3, 4], [-1, 0]])\n",
    "u = 1 / np.sqrt(5) * np.array([[1, 2]])\n",
    "\n",
    "signed_distance = np.matmul(u, points.T)\n",
    "projection = signed_distance.T.dot(u)\n",
    "print('projection of the points onto the unit vector u:\\n', projection)\n",
    "# print(signed_distance)"
   ],
   "metadata": {
    "collapsed": false,
    "pycharm": {
     "name": "#%%\n"
    }
   }
  },
  {
   "cell_type": "code",
   "execution_count": 94,
   "outputs": [
    {
     "name": "stdout",
     "output_type": "stream",
     "text": [
      "[[4.8]]\n"
     ]
    }
   ],
   "source": [
    "data = np.matmul(u, points.T)\n",
    "var_u_data = np.var(data)\n",
    "\n",
    "n = points.shape[0]\n",
    "H = (np.identity(n) - 1 / n * np.matmul(np.ones(n).reshape((n, 1)), np.ones(n).reshape((n, 1)).T))\n",
    "S = (1 / n) * np.matmul(np.matmul(points.T, H), points)\n",
    "\n",
    "u_S_u = np.matmul(np.matmul(u, S), u.T)\n",
    "print(u_S_u)"
   ],
   "metadata": {
    "collapsed": false,
    "pycharm": {
     "name": "#%%\n"
    }
   }
  },
  {
   "cell_type": "markdown",
   "source": [
    "## Principal Component Analysis (PCA)"
   ],
   "metadata": {
    "collapsed": false,
    "pycharm": {
     "name": "#%% md\n"
    }
   }
  },
  {
   "cell_type": "code",
   "execution_count": 23,
   "outputs": [
    {
     "name": "stdout",
     "output_type": "stream",
     "text": [
      "[ 1.11803399 -1.11803399]\n"
     ]
    }
   ],
   "source": [
    "data = np.array([[0, 2], [1, -1], [-1, -1]])\n",
    "barX = np.mean(data, axis=0)\n",
    "sigma = 1/(data.shape[0] - 1) * np.matmul(data.T, data)\n",
    "\n",
    "evals, evecs = np.linalg.eig(sigma)  # /!\\ eigenvectors are given in columns, not in rows (use evecs.T[0] to get the eigenvector corresponding to evals[0])\n",
    "# print(evals)\n",
    "# print(evecs.T)\n",
    "PC1 = evecs.T[np.argmax(evals)]\n",
    "\n",
    "projection_onto_PC1 = np.matmul(data, PC1)\n",
    "# print(projection_onto_PC1)\n",
    "\n",
    "np.var(projection_onto_PC1, ddof=1)  # we can check that the variance of the projected data onto PC1 is equal to lambda_1 (largest eigenvalue)"
   ],
   "metadata": {
    "collapsed": false,
    "pycharm": {
     "name": "#%%\n"
    }
   }
  },
  {
   "cell_type": "code",
   "execution_count": 37,
   "outputs": [
    {
     "name": "stdout",
     "output_type": "stream",
     "text": [
      "[-1.94649798  1.94649798 -1.20300191  1.20300191]\n"
     ]
    }
   ],
   "source": [
    "data = np.array([[0, 2], [0, -2], [1, 1], [-1, -1]])\n",
    "barX = np.mean(data, axis=0)\n",
    "sigma = 1 / (data.shape[0] - 1) * np.matmul(data.T, data)\n",
    "\n",
    "evals, evecs = np.linalg.eig(sigma)\n",
    "\n",
    "PC1 = evecs.T[np.argmax(evals)]\n",
    "projection_onto_PC1 = np.matmul(data, PC1)\n"
   ],
   "metadata": {
    "collapsed": false,
    "pycharm": {
     "name": "#%%\n"
    }
   }
  },
  {
   "cell_type": "code",
   "execution_count": null,
   "outputs": [],
   "source": [],
   "metadata": {
    "collapsed": false,
    "pycharm": {
     "name": "#%%\n"
    }
   }
  }
 ],
 "metadata": {
  "kernelspec": {
   "display_name": "Python 3",
   "language": "python",
   "name": "python3"
  },
  "language_info": {
   "codemirror_mode": {
    "name": "ipython",
    "version": 2
   },
   "file_extension": ".py",
   "mimetype": "text/x-python",
   "name": "python",
   "nbconvert_exporter": "python",
   "pygments_lexer": "ipython2",
   "version": "2.7.6"
  }
 },
 "nbformat": 4,
 "nbformat_minor": 0
}