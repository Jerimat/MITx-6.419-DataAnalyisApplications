{
 "cells": [
  {
   "cell_type": "code",
   "execution_count": null,
   "metadata": {
    "collapsed": true
   },
   "outputs": [],
   "source": [
    "import pandas as pd\n",
    "import numpy as np\n",
    "import matplotlib.pyplot as plt\n",
    "from sklearn.decomposition import PCA\n",
    "from sklearn.manifold import MDS\n",
    "from sklearn.manifold import TSNE\n",
    "from sklearn.cluster import KMeans\n",
    "from yellowbrick.style.colors import resolve_colors\n",
    "from sklearn.metrics import silhouette_score\n",
    "from yellowbrick.cluster import SilhouetteVisualizer\n",
    "from scipy.cluster.hierarchy import dendrogram, linkage, cophenet, fcluster\n",
    "from scipy.spatial.distance import pdist ## distance matrix\n",
    "from sklearn.model_selection import train_test_split\n",
    "from sklearn.linear_model import LogisticRegression, LogisticRegressionCV\n",
    "\n",
    "plt.style.use('seaborn-whitegrid')\n",
    "np.set_printoptions(precision=5, suppress=True)"
   ]
  },
  {
   "cell_type": "markdown",
   "source": [
    "In this analysis we will analyze a single-cell RNA-seq dataset compiled by the Allen Institute.\n",
    "The data set contains cells from a mouse neocortex (region in the brain which governs perception and cognition).\n",
    "\n",
    "Each row corresponds to a cell.\n",
    "Each column corresponds to the normalized transcript compatibility count (TCC).\n",
    "We might think of entry i, j as the level of expression of gene j in cell i.\n",
    "\n",
    "**Goal:** Unveil hierarchical structure of the genes and discover important genes."
   ],
   "metadata": {
    "collapsed": false,
    "pycharm": {
     "name": "#%% md\n"
    }
   }
  },
  {
   "cell_type": "code",
   "execution_count": null,
   "outputs": [],
   "source": [
    "# Import data set\n",
    "X = np.load('./data/analysis2/p1/X.npy')\n",
    "y = np.load('./data/analysis2/p1/y.npy')\n"
   ],
   "metadata": {
    "collapsed": false,
    "pycharm": {
     "name": "#%%\n"
    }
   }
  },
  {
   "cell_type": "code",
   "execution_count": null,
   "outputs": [],
   "source": [
    "# Because of the extremely high magnitude of gene expression in only a few cell, it is common to apply a log-transform to the data.\n",
    "X_transformed = np.log2(X+1)\n",
    "np.round(np.max(X_transformed[:,0]), 5)\n"
   ],
   "metadata": {
    "collapsed": false,
    "pycharm": {
     "name": "#%%\n"
    }
   }
  },
  {
   "cell_type": "code",
   "execution_count": null,
   "outputs": [],
   "source": [
    "pca_X = PCA().fit(X)\n",
    "pca_X_transformed = PCA().fit(X_transformed)"
   ],
   "metadata": {
    "collapsed": false,
    "pycharm": {
     "name": "#%%\n"
    }
   }
  },
  {
   "cell_type": "code",
   "execution_count": null,
   "outputs": [],
   "source": [
    "# We now get the percentage of variance explained by the first principal component for the fitted X and fitted X transformed\n",
    "print('%variance explained by PC1 for X:', round(pca_X.explained_variance_ratio_[0], 5))\n",
    "print('%variance explained by PC1 for transformed X:', round(pca_X_transformed.explained_variance_ratio_[0], 5))"
   ],
   "metadata": {
    "collapsed": false,
    "pycharm": {
     "name": "#%%\n"
    }
   }
  },
  {
   "cell_type": "code",
   "execution_count": null,
   "outputs": [],
   "source": [
    "def plot_cumulative_variance_explained(fitted_data):\n",
    "    n_features = fitted_data.components_.shape[0]\n",
    "    plt.plot(np.arange(1, n_features+1), np.cumsum(fitted_data.explained_variance_ratio_))\n",
    "\n",
    "    plt.title('PCA cumulative variance explained', size=15)\n",
    "    plt.xticks(np.arange(0, n_features, step=round(n_features/10, -2)))\n",
    "    plt.yticks(np.arange(0, 1.1, step=0.1))\n",
    "    plt.xlabel('Number of components')\n",
    "    plt.ylabel('% Variance explained')\n",
    "\n",
    "    plt.show()"
   ],
   "metadata": {
    "collapsed": false,
    "pycharm": {
     "name": "#%%\n"
    }
   }
  },
  {
   "cell_type": "code",
   "execution_count": null,
   "outputs": [],
   "source": [
    "# We plot the cumulative variance explained to get an idea of how the explained variance grows as more PCs are included\n",
    "plot_cumulative_variance_explained(pca_X)\n",
    "plot_cumulative_variance_explained(pca_X_transformed)"
   ],
   "metadata": {
    "collapsed": false,
    "pycharm": {
     "name": "#%%\n"
    }
   }
  },
  {
   "cell_type": "code",
   "execution_count": null,
   "outputs": [],
   "source": [
    "# How many PC should we include to explain a given threshold of variance?\n",
    "threshold = 0.85\n",
    "\n",
    "nb_PC_X = np.where(np.cumsum(pca_X.explained_variance_ratio_) >= threshold)[0][0]+1\n",
    "nb_PC_X_transformed = np.where(np.cumsum(pca_X_transformed.explained_variance_ratio_) >= threshold)[0][0]+1\n",
    "\n",
    "print('Required #PCs to explained {} of the variance in X: {}'.format(threshold, nb_PC_X))\n",
    "print('Required #PCs to explained {} of the variance in transformed X: {}'.format(threshold, nb_PC_X_transformed))\n"
   ],
   "metadata": {
    "collapsed": false,
    "pycharm": {
     "name": "#%%\n"
    }
   }
  },
  {
   "cell_type": "code",
   "execution_count": null,
   "outputs": [],
   "source": [
    "# We'll now visualize the transformed data. First the raw log-transformed data, then the log-transformed data transformed by PCA\n",
    "plt.scatter(X_transformed[:,0], X_transformed[:,1])\n",
    "plt.title('single-cell RNA-seq transformed')\n",
    "plt.show()\n",
    "\n",
    "#Plot the data projected onto PC1 and\n",
    "projected_onto_PC1 = np.matmul(X_transformed, pca_X_transformed.components_[0])\n",
    "projected_onto_PC2 = np.matmul(X_transformed, pca_X_transformed.components_[1])\n",
    "\n",
    "plt.scatter(projected_onto_PC1, projected_onto_PC2)\n",
    "plt.title('single-cell RNA-seq transformed, PCA')\n",
    "plt.xlabel('PC1')\n",
    "plt.ylabel('PC2')\n",
    "plt.show()"
   ],
   "metadata": {
    "collapsed": false,
    "pycharm": {
     "name": "#%%\n"
    }
   }
  },
  {
   "cell_type": "code",
   "execution_count": null,
   "outputs": [],
   "source": [
    "# We will now visualize the data set in two dimension by reducing it using MDS (Multidimensional Scaling)\n",
    "mds_X_transformed = MDS(verbose=1, eps=1e-5).fit_transform(X_transformed)\n",
    "\n",
    "plt.scatter(mds_X_transformed[:,0], mds_X_transformed[:,1])\n",
    "plt.title('single-cell RNA-seq transformed, MDS')\n",
    "plt.show()\n"
   ],
   "metadata": {
    "collapsed": false,
    "pycharm": {
     "name": "#%%\n"
    }
   }
  },
  {
   "cell_type": "code",
   "execution_count": null,
   "outputs": [],
   "source": [
    "# We project the data onto the top 50 principal components\n",
    "projected_onto_top50 = np.matmul(X_transformed, pca_X_transformed.components_[:50].T)"
   ],
   "metadata": {
    "collapsed": false,
    "pycharm": {
     "name": "#%%\n"
    }
   }
  },
  {
   "cell_type": "code",
   "execution_count": null,
   "outputs": [],
   "source": [
    "# Now visualize the dataset after reducing it using t-SNE (top 50 PC)\n",
    "tsne_top_PC = TSNE(n_components=2, perplexity=40).fit_transform(projected_onto_top50)\n",
    "\n",
    "plt.scatter(tsne_top_PC[:,0], tsne_top_PC[:,1])\n",
    "plt.title('single-cell RNA-seq transformed, t-SNE (perplexity=40)')\n",
    "plt.show()"
   ],
   "metadata": {
    "collapsed": false,
    "pycharm": {
     "name": "#%%\n"
    }
   }
  },
  {
   "cell_type": "code",
   "execution_count": null,
   "outputs": [],
   "source": [
    "# We define the number of clusters by looking at the data set reduced using t-SNE\n",
    "n_clusters = 5\n",
    "clustering = KMeans(n_clusters=n_clusters, n_init=50).fit(projected_onto_top50)\n",
    "colors = np.array(resolve_colors(n_clusters, 'yellowbrick'))"
   ],
   "metadata": {
    "collapsed": false,
    "pycharm": {
     "name": "#%%\n"
    }
   }
  },
  {
   "cell_type": "code",
   "execution_count": null,
   "outputs": [],
   "source": [
    "pca_X_top50 = PCA().fit_transform(projected_onto_top50)\n",
    "\n",
    "plt.scatter(pca_X_top50[:,0], pca_X_top50[:,1], c=colors[clustering.labels_])\n",
    "plt.title('KMeans single-cell RNA-seq transformed, PCA', size=15)\n",
    "plt.xlabel('PC1')\n",
    "plt.ylabel('PC2')\n",
    "\n",
    "plt.show()"
   ],
   "metadata": {
    "collapsed": false,
    "pycharm": {
     "name": "#%%\n"
    }
   }
  },
  {
   "cell_type": "code",
   "execution_count": null,
   "outputs": [],
   "source": [
    "mds_X_top50 = MDS(verbose=1, eps=1e-5).fit_transform(projected_onto_top50)\n",
    "\n",
    "plt.scatter(mds_X_top50[:,0], mds_X_top50[:,1], c=colors[clustering.labels_])\n",
    "plt.title('KMeans single-cell RNA-seq transformed, MDS', size=15)\n",
    "\n",
    "plt.show()"
   ],
   "metadata": {
    "collapsed": false,
    "pycharm": {
     "name": "#%%\n"
    }
   }
  },
  {
   "cell_type": "code",
   "execution_count": null,
   "outputs": [],
   "source": [
    "tsne_X_top50 = TSNE(n_components=2, perplexity=40).fit_transform(projected_onto_top50)\n",
    "\n",
    "plt.scatter(tsne_X_top50[:,0], tsne_X_top50[:,1], c=colors[clustering.labels_])\n",
    "plt.title('KMeans single-cell RNA-seq transformed, PCA', size=15)\n",
    "\n",
    "plt.show()"
   ],
   "metadata": {
    "collapsed": false,
    "pycharm": {
     "name": "#%%\n"
    }
   }
  },
  {
   "cell_type": "code",
   "execution_count": null,
   "outputs": [],
   "source": [
    "# How many clusters should we solve for ? We'll answer that by looking at an elbow plot\n",
    "plt.plot(np.arange(1, 10), [KMeans(i, n_init=50).fit(projected_onto_top50).inertia_ for i in range(1, 10)])\n",
    "plt.xticks(np.arange(1, 10, step=1))\n",
    "plt.title('KMeans Sum of Squares Criterion', size=15)\n",
    "plt.xlabel('#Clusters')\n",
    "plt.ylabel('Within Group Sum of Squares (WGSS)')\n",
    "\n",
    "plt.show()"
   ],
   "metadata": {
    "collapsed": false,
    "pycharm": {
     "name": "#%%\n"
    }
   }
  },
  {
   "cell_type": "code",
   "source": [
    "n_clusters = 4\n",
    "kmeans_top50 = KMeans(n_clusters, n_init=50).fit(projected_onto_top50)\n",
    "print('WGSS for {} clusters: {:.3g}'.format(n_clusters, kmeans_top50.inertia_))\n",
    "\n",
    "# kmeans_centroid_top50 = kmeans_top50.cluster_centers_"
   ],
   "metadata": {
    "collapsed": false,
    "pycharm": {
     "name": "#%%\n"
    }
   },
   "execution_count": null,
   "outputs": []
  },
  {
   "cell_type": "code",
   "execution_count": null,
   "outputs": [],
   "source": [
    "kmeans_X_centroid = KMeans(n_clusters, n_init=50).fit(X_transformed).cluster_centers_"
   ],
   "metadata": {
    "collapsed": false,
    "pycharm": {
     "name": "#%%\n"
    }
   }
  },
  {
   "cell_type": "code",
   "execution_count": null,
   "outputs": [],
   "source": [
    "pca_kmeans_X_centroid = PCA().fit_transform(kmeans_X_centroid)\n",
    "\n",
    "plt.scatter(pca_kmeans_X_centroid[:,0], pca_kmeans_X_centroid[:,1])\n",
    "plt.show()\n"
   ],
   "metadata": {
    "collapsed": false,
    "pycharm": {
     "name": "#%%\n"
    }
   }
  },
  {
   "cell_type": "code",
   "execution_count": null,
   "outputs": [],
   "source": [
    "mds_kmeans_X_centroid = MDS(n_components=2, verbose=1, eps=1e-5).fit_transform(kmeans_X_centroid)\n",
    "\n",
    "plt.scatter(mds_kmeans_X_centroid[:,0], mds_kmeans_X_centroid[:,1])\n",
    "plt.show()"
   ],
   "metadata": {
    "collapsed": false,
    "pycharm": {
     "name": "#%%\n"
    }
   }
  },
  {
   "cell_type": "code",
   "execution_count": null,
   "outputs": [],
   "source": [
    "pca_X = PCA().fit_transform(X)\n",
    "plt.scatter(pca_X[:,0], pca_X[:,1])\n",
    "plt.title('single-cell RNA-seq, PCA', size=15)\n",
    "plt.show()"
   ],
   "metadata": {
    "collapsed": false,
    "pycharm": {
     "name": "#%%\n"
    }
   }
  },
  {
   "cell_type": "code",
   "source": [
    "mds_X = MDS(verbose=1, eps=1e-5).fit_transform(X)\n",
    "\n",
    "plt.scatter(mds_X[:,0], mds_X[:,1])\n",
    "plt.title('single-cell RNA-seq, MDS', size=15)\n",
    "plt.show()"
   ],
   "metadata": {
    "collapsed": false,
    "pycharm": {
     "name": "#%%\n"
    }
   },
   "execution_count": null,
   "outputs": []
  },
  {
   "cell_type": "code",
   "execution_count": null,
   "outputs": [],
   "source": [
    "tsne_X = TSNE(n_components=2, perplexity=40).fit_transform(X)\n",
    "\n",
    "plt.scatter(tsne_X[:,0], tsne_X[:,1])\n",
    "plt.title('KMeans single-cell RNA-seq, t-SNE', size=15)\n",
    "\n",
    "plt.show()"
   ],
   "metadata": {
    "collapsed": false,
    "pycharm": {
     "name": "#%%\n"
    }
   }
  },
  {
   "cell_type": "markdown",
   "source": [
    "# Written analysis 2\n",
    "_(computations used to redact and illustrate the report)_"
   ],
   "metadata": {
    "collapsed": false,
    "pycharm": {
     "name": "#%% md\n"
    }
   }
  },
  {
   "cell_type": "markdown",
   "source": [
    "## Part 1 - Visualisation"
   ],
   "metadata": {
    "collapsed": false,
    "pycharm": {
     "name": "#%% md\n"
    }
   }
  },
  {
   "cell_type": "code",
   "execution_count": null,
   "outputs": [],
   "source": [
    "# As the dataset is big (805MB) we might want to work on a reduced dataset first\n",
    "# X_raw = np.load('./data/analysis2/p2_unsupervised/X.npy')\n",
    "X_raw = np.load('./data/analysis2/p2_unsupervised_reduced/X.npy')\n",
    "print('The dataset format:', X_raw.shape)\n",
    "\n",
    "# For the same reason as with the first dataset, we perform the log-transform on this dataset\n",
    "X_transformed = np.log2(X_raw + 1)"
   ],
   "metadata": {
    "collapsed": false,
    "pycharm": {
     "name": "#%%\n"
    }
   }
  },
  {
   "cell_type": "code",
   "execution_count": null,
   "outputs": [],
   "source": [
    "# For visualization and computations purposes we reduce the dataset using PCA\n",
    "pca = PCA()\n",
    "X_transformed_fitted_pca = pca.fit(X_transformed)\n",
    "X_transformed_pca = pca.transform(X_transformed)"
   ],
   "metadata": {
    "collapsed": false,
    "pycharm": {
     "name": "#%%\n"
    }
   }
  },
  {
   "cell_type": "code",
   "execution_count": null,
   "outputs": [],
   "source": [
    "plot_cumulative_variance_explained(X_transformed_fitted_pca)"
   ],
   "metadata": {
    "collapsed": false,
    "pycharm": {
     "name": "#%%\n"
    }
   }
  },
  {
   "cell_type": "code",
   "execution_count": null,
   "outputs": [],
   "source": [
    "# We then select the number of components to keep for explaining a given threshold of the variance\n",
    "threshold = 0.85\n",
    "nb_components = np.where(np.cumsum(X_transformed_fitted_pca.explained_variance_ratio_) >= threshold)[0][0] + 1\n",
    "print('Required number of principal components to explain {} of the variance: {}'.format(threshold, nb_components))"
   ],
   "metadata": {
    "collapsed": false,
    "pycharm": {
     "name": "#%%\n"
    }
   }
  },
  {
   "cell_type": "code",
   "execution_count": null,
   "outputs": [],
   "source": [
    "plt.scatter(X_transformed_pca[:, 0], X_transformed_pca[:,1])\n",
    "plt.xlabel('PC1')\n",
    "plt.ylabel('PC2')\n",
    "\n",
    "plt.title('Brain cells log-transformed, PCA', size=15)\n",
    "plt.savefig('./plots/analysis2/brainCells_log-transformed_PCA')\n",
    "plt.show()"
   ],
   "metadata": {
    "collapsed": false,
    "pycharm": {
     "name": "#%%\n"
    }
   }
  },
  {
   "cell_type": "code",
   "source": [
    "X_transformed_mds = MDS(verbose=1, eps=1e-5)\n",
    "X_transformed_mds.fit_transform(X_transformed)\n",
    "\n",
    "plt.scatter(X_transformed_mds.embedding_[:,0], X_transformed_mds.embedding_[:,1])\n",
    "\n",
    "plt.title('Brain cells log-transformed, MDS\\nstress={}'.format(X_transformed_mds.stress_), size=15)\n",
    "plt.savefig('./plots/analysis2/brainCells_log-transformed_MDS')\n",
    "plt.show()"
   ],
   "metadata": {
    "collapsed": false,
    "pycharm": {
     "name": "#%%\n"
    }
   },
   "execution_count": null,
   "outputs": []
  },
  {
   "cell_type": "code",
   "execution_count": null,
   "outputs": [],
   "source": [
    "perplexity = 80\n",
    "X_transformed_tsne = TSNE(n_components=2, perplexity=perplexity).fit_transform(X_transformed_pca)\n",
    "\n",
    "plt.scatter(X_transformed_tsne[:,0], X_transformed_tsne[:,1])\n",
    "\n",
    "plt.title('Brain cells log-transformed, t-SNE (perplexity={})'.format(perplexity), size=15)\n",
    "plt.savefig('./plots/analysis2/brainCells_log-transformed_tSNE')\n",
    "plt.show()\n"
   ],
   "metadata": {
    "collapsed": false,
    "pycharm": {
     "name": "#%%\n"
    }
   }
  },
  {
   "cell_type": "code",
   "execution_count": null,
   "outputs": [],
   "source": [
    "# elbow plot\n",
    "plt.plot(range(1, 6), [KMeans(i, n_init=50).fit(X_transformed).inertia_ for i in range(1, 6)])\n",
    "plt.xticks(range(1, 6))\n",
    "plt.xlabel('#of clusters')\n",
    "plt.ylabel('WGSS')\n",
    "\n",
    "plt.title('KMeans Sum of Squares', size=15)\n",
    "plt.savefig('./plots/analysis2/brainCells_log-transformed_ElbowPlot')\n",
    "plt.show()"
   ],
   "metadata": {
    "collapsed": false,
    "pycharm": {
     "name": "#%%\n"
    }
   }
  },
  {
   "cell_type": "code",
   "execution_count": null,
   "outputs": [],
   "source": [
    "plt.plot(range(2, 6), [silhouette_score(X_transformed, KMeans(i, n_init=50).fit(X_transformed).labels_) for i in range(2, 6)])\n",
    "plt.xticks(range(2, 6))\n",
    "plt.xlabel('#of clusters')\n",
    "plt.ylabel('Average silhouette score')\n",
    "\n",
    "plt.title('Average Silhouette Scores', size=15)\n",
    "plt.savefig('./plots/analysis2/brainCells_log-transformed_SilhouettePlot')\n",
    "plt.show()"
   ],
   "metadata": {
    "collapsed": false,
    "pycharm": {
     "name": "#%%\n"
    }
   }
  },
  {
   "cell_type": "code",
   "execution_count": null,
   "outputs": [],
   "source": [
    "# As both the elbow and silhouette plots agree on 3 being a right number of clusters,\n",
    "# we will perform KMeans with  3 clusters.\n",
    "n_clusters = 3\n",
    "clustering = KMeans(n_clusters=n_clusters, n_init=50)\n",
    "clustering.fit(X_transformed_pca)\n",
    "colors = np.array(resolve_colors(n_clusters, 'yellowbrick'))"
   ],
   "metadata": {
    "collapsed": false,
    "pycharm": {
     "name": "#%%\n"
    }
   }
  },
  {
   "cell_type": "code",
   "execution_count": null,
   "outputs": [],
   "source": [
    "mds_brain_cells = MDS(n_components=n_clusters, eps=1e-7).fit_transform(X_transformed_pca)\n",
    "\n",
    "plt.scatter(mds_brain_cells[:,0], mds_brain_cells[:,1], c=colors[clustering.labels_])\n",
    "plt.title('KMeans, Brain cells log-transformed MDS')\n",
    "plt.show()"
   ],
   "metadata": {
    "collapsed": false,
    "pycharm": {
     "name": "#%%\n"
    }
   }
  },
  {
   "cell_type": "code",
   "execution_count": null,
   "outputs": [],
   "source": [
    "for i in range(3,10):\n",
    "    clustering = KMeans(i,n_init=50)\n",
    "    fig, (ax1, ax2) = plt.subplots(1, 2, figsize=(10,4))\n",
    "    visualizer = SilhouetteVisualizer(clustering, colors='yellowbrick', is_fitted=True, ax=ax1)\n",
    "    visualizer.fit(X_transformed_pca)\n",
    "\n",
    "    colors = np.array(resolve_colors(i, 'yellowbrick'))\n",
    "    ax2.scatter(X_transformed_pca[:,0], X_transformed_pca[:,1],c=colors[clustering.labels_])\n",
    "    ax2.axis('equal')\n",
    "\n",
    "    #set the axis to be the same for all plots\n",
    "    visualizer.finalize()\n",
    "    ax1.set_xlim((-.2,.6))\n",
    "\n",
    "    plt.savefig('./plots/analysis2/subtypesKMeans/brainCells_KMeans_{}centers'.format(i))\n",
    "    plt.show()"
   ],
   "metadata": {
    "collapsed": false,
    "pycharm": {
     "name": "#%%\n"
    }
   }
  },
  {
   "cell_type": "markdown",
   "source": [
    "### Hierarchical clustering\n",
    "The possible sub-types information about the cells hints us about a possible hierarchy of types.\n",
    "\n",
    "For that matter, we will perform hierarchical clustering to explore this further.\n",
    "\n",
    "_(Method inspired by Jörn's Blog, SciPy Hierarchical Clustering and Dendrogram Tutorial - https://joernhees.de/blog/2015/08/26/scipy-hierarchical-clustering-and-dendrogram-tutorial/)_"
   ],
   "metadata": {
    "collapsed": false,
    "pycharm": {
     "name": "#%% md\n"
    }
   }
  },
  {
   "cell_type": "code",
   "execution_count": null,
   "outputs": [],
   "source": [
    "# Linkage matrix\n",
    "Z = linkage(X_transformed, 'ward')\n",
    "\n",
    "# Cophenetic Correlation Coefficient\n",
    "c, coph_dist = cophenet(Z, pdist(X_transformed))"
   ],
   "metadata": {
    "collapsed": false,
    "pycharm": {
     "name": "#%%\n"
    }
   }
  },
  {
   "cell_type": "code",
   "execution_count": null,
   "outputs": [],
   "source": [
    "# Calculate the full dendrogram\n",
    "plt.figure(figsize=(25,10))\n",
    "plt.title('Hierarchical clustering of brain cells', size=18)\n",
    "plt.xlabel('Brain cell index')\n",
    "plt.ylabel('Distance')\n",
    "\n",
    "dendrogram(Z, leaf_rotation=90, leaf_font_size=8)\n",
    "\n",
    "plt.savefig('./plots/analysis2/brainCells_fullDendrogram')\n",
    "plt.show()\n",
    "# Due to the number of samples we have, this dendrogram is hardly readable,\n",
    "# although we can already get a grasp of the approximate number of clusters."
   ],
   "metadata": {
    "collapsed": false,
    "pycharm": {
     "name": "#%%\n"
    }
   }
  },
  {
   "cell_type": "code",
   "execution_count": null,
   "outputs": [],
   "source": [
    "# Let's reduce the number of leaves of the dendrogram\n",
    "last_p = 40  # Show only the last_p merges\n",
    "\n",
    "plt.figure(figsize=(25, 10))\n",
    "plt.title('Hierarchical clustering of brain cells (last {} merges)'.format(last_p), size=25)\n",
    "plt.xlabel('Size of cluster before the {}th merge'.format(last_p), size=18)\n",
    "plt.ylabel('Distance', size=18)\n",
    "\n",
    "dendrogram(Z,\n",
    "           truncate_mode='lastp',\n",
    "           p=last_p,\n",
    "           leaf_rotation=90,\n",
    "           leaf_font_size=12,\n",
    "           show_contracted=True)\n",
    "\n",
    "threshold_distance = 1800\n",
    "plt.axhline(y=threshold_distance, c='black')\n",
    "plt.axhline(y=1500, c='black')\n",
    "\n",
    "plt.savefig('./plots/analysis2/brainCells_last{}Dendrogram'.format(last_p))\n",
    "plt.show()\n",
    "# The little dots indicates us the distances of the previous merges.\n",
    "# The lower those little dots, the lower the distances at which the merges were performed."
   ],
   "metadata": {
    "collapsed": false,
    "pycharm": {
     "name": "#%%\n"
    }
   }
  },
  {
   "cell_type": "code",
   "execution_count": null,
   "outputs": [],
   "source": [
    "# What if we want to automate the selection of the number of clusters ?\n",
    "# One of the methods is to use an elbow method, take its derivative and chose the number of clusters for x at the max_value of the derivative (where the elbow is the strongest)\n",
    "last_merges = Z[-last_p:, 2]  # For better visualization, the first value is mostly exploratory\n",
    "last_rev = last_merges[::-1]\n",
    "idx = np.arange(1, len(last_merges) + 1, step=1)\n",
    "plt.plot(idx, last_rev, label='Elbow curve')\n",
    "\n",
    "acceleration = np.diff(last_merges, 2)\n",
    "acceleration_rev = acceleration[::-1]\n",
    "plt.plot(idx[:-2]+1, acceleration_rev, label='Derivative of the elbow curve')\n",
    "\n",
    "plt.title('Elbow plot and its derivative', size=15)\n",
    "plt.xlabel('#of clusters')\n",
    "plt.ylabel('Distance of the merge')\n",
    "\n",
    "plt.legend(frameon=True)\n",
    "plt.savefig('./plots/analysis2/brainCells_ElbowPlot-last{}Dendrogram'.format(last_p))\n",
    "plt.show()\n",
    "\n",
    "k = acceleration_rev.argmax() + 2\n",
    "print('Automated number of clusters detected:', k)\n",
    "\n",
    "k_s = acceleration_rev.argpartition(-4)[-4:]\n",
    "print('Automated multiple numbers of clusters detected:', k_s)"
   ],
   "metadata": {
    "collapsed": false,
    "pycharm": {
     "name": "#%%\n"
    }
   }
  },
  {
   "cell_type": "markdown",
   "source": [
    "#### Retrieving the clusters"
   ],
   "metadata": {
    "collapsed": false,
    "pycharm": {
     "name": "#%% md\n"
    }
   }
  },
  {
   "cell_type": "code",
   "execution_count": null,
   "outputs": [],
   "source": [
    "# If we know max_d for the merge threshold\n",
    "# max_d = 1800\n",
    "# clusters = fcluster(Z, max_d, criterion='distance')\n",
    "\n",
    "# If we know k\n",
    "k = 5\n",
    "clusters = fcluster(Z, k, criterion='maxclust')\n",
    "\n",
    "plt.figure(figsize=(10, 8))\n",
    "plt.scatter(X_transformed_pca[:,0], X_transformed_pca[:,1], c=clusters, cmap='viridis')\n",
    "\n",
    "plt.title('Brain cells transformed, PCA, Hierarchical clustering', size=15)\n",
    "plt.savefig('./plots/analysis2/brainCells_hierarchicalClustering')\n",
    "plt.show()"
   ],
   "metadata": {
    "collapsed": false,
    "pycharm": {
     "name": "#%%\n"
    }
   }
  },
  {
   "cell_type": "code",
   "execution_count": null,
   "outputs": [],
   "source": [
    "n_clusters = 5\n",
    "clustering = KMeans(n_clusters, n_init=50).fit(X_transformed)\n",
    "colors = np.array(resolve_colors(n_clusters, 'yellowbrick'))\n",
    "\n",
    "plt.figure(figsize=(10,8))\n",
    "plt.scatter(X_transformed_pca[:,0], X_transformed_pca[:,1], c=colors[clustering.labels_])\n",
    "\n",
    "plt.title('Brain cells transformed, PCA, KMeans clustering', size=15)\n",
    "\n",
    "plt.savefig('./plots/analysis2/brainCells_KMeansClustering')\n",
    "plt.show()"
   ],
   "metadata": {
    "collapsed": false,
    "pycharm": {
     "name": "#%%\n"
    }
   }
  },
  {
   "cell_type": "markdown",
   "source": [
    "### Gaussian Mixture Model (GMM)\n"
   ],
   "metadata": {
    "collapsed": false,
    "pycharm": {
     "name": "#%% md\n"
    }
   }
  },
  {
   "cell_type": "code",
   "execution_count": null,
   "outputs": [],
   "source": [
    "# TODO"
   ],
   "metadata": {
    "collapsed": false,
    "pycharm": {
     "name": "#%%\n"
    }
   }
  },
  {
   "cell_type": "markdown",
   "source": [
    "### Part 2 - Unsupervised feature selection"
   ],
   "metadata": {
    "collapsed": false,
    "pycharm": {
     "name": "#%% md\n"
    }
   }
  },
  {
   "cell_type": "code",
   "execution_count": null,
   "outputs": [],
   "source": [
    "n_clusters = 5\n",
    "clustering = KMeans(n_clusters=5, n_init=50).fit(X_transformed)\n",
    "labels = clustering.labels_"
   ],
   "metadata": {
    "collapsed": false,
    "pycharm": {
     "name": "#%%\n"
    }
   }
  },
  {
   "cell_type": "code",
   "execution_count": null,
   "outputs": [],
   "source": [
    "# Separate into train/test data\n",
    "X_train, X_test, y_train, y_test = train_test_split(X_transformed, labels, test_size=0.33, shuffle=True)\n",
    "\n",
    "model = LogisticRegressionCV(cv=5, Cs=[0.001, 0.01, 0.1, 1, 10], penalty='l2', multi_class='ovr', max_iter=5000).fit(X_train, y_train)\n",
    "# model = LogisticRegressionCV(cv=5, Cs=[0.001, 0.01, 0.1, 1, 10], penalty='l1', solver='liblinear', max_iter=5000, multi_class='ovr')\n",
    "# model = LogisticRegressionCV(cv=5, Cs=[0.001, 0.01, 0.1, 1, 10], penalty='elasticnet', solver='saga', l1_ratios=[0.25, 0.5, 0.75], multi_class='ovr', max_iter=5000)  ## Takes a loooong time\n",
    "\n",
    "model.fit(X_train, y_train)"
   ],
   "metadata": {
    "collapsed": false,
    "pycharm": {
     "name": "#%%\n"
    }
   }
  },
  {
   "cell_type": "code",
   "execution_count": null,
   "outputs": [],
   "source": [
    "score1 = model.score(X_test, y_test)\n",
    "print(score1)\n",
    "# score2 = model.score(X_test, y_test)\n",
    "# score3 = model.score(X_test, y_test)"
   ],
   "metadata": {
    "collapsed": false,
    "pycharm": {
     "name": "#%%\n"
    }
   }
  },
  {
   "cell_type": "code",
   "execution_count": null,
   "outputs": [],
   "source": [
    "n_coef = 100\n",
    "sum_coef = np.sum(np.abs(model.coef_), axis=0)\n",
    "top_coef = sum_coef.argsort()[::-1][:n_coef]\n",
    "\n",
    "random_features = np.random.choice(X_transformed.shape[1], n_coef, replace=False)\n",
    "max_variance_features = np.var(X_transformed, axis=0).argsort()[::-1][:n_coef]"
   ],
   "metadata": {
    "collapsed": false,
    "pycharm": {
     "name": "#%%\n"
    }
   }
  },
  {
   "cell_type": "code",
   "execution_count": null,
   "outputs": [],
   "source": [
    "set_features = [top_coef, random_features, max_variance_features]\n",
    "\n",
    "scores = []\n",
    "for features in set_features:\n",
    "    X = X_transformed[:, np.array(features)]\n",
    "    X_train, X_test, y_train, y_test = train_test_split(X, labels, test_size=0.33, shuffle=True)\n",
    "\n",
    "    model = LogisticRegressionCV(cv=5, Cs=[0.001, 0.01, 0.1, 1, 10], penalty='l2', multi_class='ovr', max_iter=5000)\n",
    "    model.fit(X_train, y_train)\n",
    "\n",
    "    model_score = model.score(X_test, y_test)\n",
    "    scores.append(model_score)\n",
    "\n",
    "print(np.round(np.asarray(scores), 5))"
   ],
   "metadata": {
    "collapsed": false,
    "pycharm": {
     "name": "#%%\n"
    }
   }
  },
  {
   "cell_type": "markdown",
   "source": [
    "## Influence of Hyper-Parameters"
   ],
   "metadata": {
    "collapsed": false,
    "pycharm": {
     "name": "#%% md\n"
    }
   }
  },
  {
   "cell_type": "code",
   "execution_count": null,
   "outputs": [],
   "source": [
    "# We will now explore how the visualization changes when,\n",
    "# instead of using the top50 PCs on the first dataset, we use another number of PCs.\n",
    "# Import data set\n",
    "X = np.load('./data/analysis2/p1/X.npy')\n",
    "y = np.load('./data/analysis2/p1/y.npy')\n",
    "\n",
    "X_transformed = np.log2(X+1)\n",
    "\n",
    "pca_X = PCA().fit(X)\n",
    "pca_X_transformed = PCA().fit(X_transformed)"
   ],
   "metadata": {
    "collapsed": false,
    "pycharm": {
     "name": "#%%\n"
    }
   }
  },
  {
   "cell_type": "code",
   "execution_count": null,
   "outputs": [],
   "source": [
    "number_PCs = [10, 50, 100, 250, 500]\n",
    "for PCs in number_PCs:\n",
    "    projected_X = np.matmul(X_transformed, pca_X_transformed.components_[:PCs].T)\n",
    "    tsne_top_PC = TSNE(n_components=2, perplexity=40).fit_transform(projected_X)\n",
    "\n",
    "    plt.scatter(tsne_top_PC[:,0], tsne_top_PC[:,1])\n",
    "    plt.title('single-cell RNA-seq transformed projected onto {} Principal Components,\\nt-SNE (perplexity=40)'.format(PCs), size=15)\n",
    "\n",
    "    plt.savefig('./plots/analysis2/hyperParameters_tSNE/tSNE_projected-onto-{}PCs'.format(PCs))\n",
    "    plt.show()"
   ],
   "metadata": {
    "collapsed": false,
    "pycharm": {
     "name": "#%%\n"
    }
   }
  },
  {
   "cell_type": "code",
   "execution_count": null,
   "outputs": [],
   "source": [
    "n_clusters = 5\n",
    "number_PCs = [10, 50, 100, 250, 500]\n",
    "for PCs in number_PCs:\n",
    "    projected_X = np.matmul(X_transformed, pca_X_transformed.components_[:PCs].T)\n",
    "\n",
    "    # clustering = KMeans(n_clusters=n_clusters, n_init=50)\n",
    "    # clustering.fit(projected_X)\n",
    "    # colors = np.array(resolve_colors(n_clusters, 'yellowbrick'))\n",
    "\n",
    "    mds_projected_X = MDS(verbose=1, eps=1e-5).fit_transform(projected_X)\n",
    "\n",
    "    plt.figure(figsize=(10,8))\n",
    "    plt.scatter(mds_projected_X[:,0], mds_projected_X[:,1], c=y, cmap='viridis')\n",
    "\n",
    "    plt.title('single-cell RNA-seq transformed projected onto {} Principal Components,\\nMDS'.format(PCs, n_clusters), size=15)\n",
    "    plt.savefig('./plots/analysis2/MDS_influence_nb-PC/MDS_{}PC'.format(PCs))\n",
    "\n",
    "    plt.show()"
   ],
   "metadata": {
    "collapsed": false,
    "pycharm": {
     "name": "#%%\n"
    }
   }
  },
  {
   "cell_type": "code",
   "execution_count": null,
   "outputs": [],
   "source": [
    "# Explore the effect of the perplexity parameter on t-SNE\n",
    "projected_X = np.matmul(X_transformed, pca_X_transformed.components_[:50].T)\n",
    "\n",
    "perplexities = [0, 2, 5, 20, 30, 50, 100]\n",
    "for perplexity in perplexities:\n",
    "    tsne = TSNE(n_components=2, perplexity=perplexity).fit_transform(projected_X)\n",
    "\n",
    "    plt.scatter(tsne[:,0], tsne[:,1], c=y, cmap='viridis')\n",
    "    plt.title('single-cell RNA-seq transformed projected onto 50 Principal Components,\\nt-SNE (perplexity={})'.format(perplexity), size=15)\n",
    "\n",
    "    plt.savefig('./plots/analysis2/t-SNE_influence-perplexity/t-SNE_perplexity{}'.format(perplexity))\n",
    "    plt.show()"
   ],
   "metadata": {
    "collapsed": false,
    "pycharm": {
     "name": "#%%\n"
    }
   }
  },
  {
   "cell_type": "code",
   "execution_count": null,
   "outputs": [],
   "source": [
    "# Explore the effect of the learning rate parameter on t-SNE\n",
    "projected_X = np.matmul(X_transformed, pca_X_transformed.components_[:50].T)\n",
    "\n",
    "learning_rates = [10, 50, 100, 250, 500, 1000]\n",
    "for lr in learning_rates:\n",
    "    tsne = TSNE(n_components=2, perplexity=30, learning_rate=lr)\n",
    "    tsne_X = tsne.fit_transform(projected_X)\n",
    "\n",
    "    plt.scatter(tsne_X[:,0], tsne_X[:,1], c=y, cmap='viridis')\n",
    "    plt.title('single-cell RNA-seq transformed projected onto 50 Principal Components,\\nt-SNE (perplexity=50, learning rate={})'.format(lr), size=15)\n",
    "\n",
    "    # plt.savefig('./plots/analysis2/t-SNE_influence-learningRate/t-SNE_learningRate{}'.format(lr))\n",
    "    plt.show()"
   ],
   "metadata": {
    "collapsed": false,
    "pycharm": {
     "name": "#%%\n"
    }
   }
  },
  {
   "cell_type": "code",
   "execution_count": null,
   "outputs": [],
   "source": [],
   "metadata": {
    "collapsed": false,
    "pycharm": {
     "name": "#%%\n"
    }
   }
  }
 ],
 "metadata": {
  "kernelspec": {
   "display_name": "Python 3",
   "language": "python",
   "name": "python3"
  },
  "language_info": {
   "codemirror_mode": {
    "name": "ipython",
    "version": 2
   },
   "file_extension": ".py",
   "mimetype": "text/x-python",
   "name": "python",
   "nbconvert_exporter": "python",
   "pygments_lexer": "ipython2",
   "version": "2.7.6"
  }
 },
 "nbformat": 4,
 "nbformat_minor": 0
}